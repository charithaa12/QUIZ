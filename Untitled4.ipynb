{
  "nbformat": 4,
  "nbformat_minor": 0,
  "metadata": {
    "colab": {
      "provenance": []
    },
    "kernelspec": {
      "name": "python3",
      "display_name": "Python 3"
    },
    "language_info": {
      "name": "python"
    }
  },
  "cells": [
    {
      "cell_type": "code",
      "source": [
        "#Image Classification Task:\n",
        "#Load the MNIST dataset.\n",
        "import tensorflow as tf\n",
        "\n",
        "# Load MNIST dataset\n",
        "mnist = tf.keras.datasets.mnist\n",
        "(train_images, train_labels), (test_images, test_labels) = mnist.load_data()\n",
        "\n",
        "# Normalize the image data\n",
        "train_images = train_images / 255.0\n",
        "test_images = test_images / 255.0\n",
        "\n",
        "# Reshape the image data to 4D tensors (batch_size, height, width, channels)\n",
        "train_images = train_images.reshape((train_images.shape[0], 28, 28, 1))\n",
        "test_images = test_images.reshape((test_images.shape[0], 28, 28, 1))\n",
        "\n",
        "# Convert labels to one-hot encoding\n",
        "train_labels = tf.keras.utils.to_categorical(train_labels, num_classes=10)\n",
        "test_labels = tf.keras.utils.to_categorical(test_labels, num_classes=10)\n",
        "\n",
        "print(\"MNIST dataset loaded successfully.\")\n",
        "print(\"Training set shape:\", train_images.shape)\n",
        "print(\"Training labels shape:\", train_labels.shape)\n",
        "print(\"Test set shape:\", test_images.shape)\n",
        "print(\"Test labels shape:\", test_labels.shape)\n"
      ],
      "metadata": {
        "colab": {
          "base_uri": "https://localhost:8080/"
        },
        "id": "g5IvSKZSzg9J",
        "outputId": "2399f48f-333c-4960-fe53-e980be1a77c6"
      },
      "execution_count": 10,
      "outputs": [
        {
          "output_type": "stream",
          "name": "stdout",
          "text": [
            "MNIST dataset loaded successfully.\n",
            "Training set shape: (60000, 28, 28, 1)\n",
            "Training labels shape: (60000, 10)\n",
            "Test set shape: (10000, 28, 28, 1)\n",
            "Test labels shape: (10000, 10)\n"
          ]
        }
      ]
    },
    {
      "cell_type": "code",
      "source": [
        "#Build a simple convolutional neural network (CNN) using Keras Sequential model\n",
        "import tensorflow as tf\n",
        "from tensorflow.keras import layers, models\n",
        "\n",
        "# Define the CNN model\n",
        "model = models.Sequential([\n",
        "    # Convolutional layers\n",
        "    layers.Conv2D(32, (3, 3), activation='relu', input_shape=(28, 28, 1)),\n",
        "    layers.MaxPooling2D((2, 2)),\n",
        "    layers.Conv2D(64, (3, 3), activation='relu'),\n",
        "    layers.MaxPooling2D((2, 2)),\n",
        "    layers.Conv2D(64, (3, 3), activation='relu'),\n",
        "\n",
        "    # Flatten layer to feed into dense layers\n",
        "    layers.Flatten(),\n",
        "\n",
        "    # Dense layers\n",
        "    layers.Dense(64, activation='relu'),\n",
        "    layers.Dense(10, activation='softmax')  # Output layer with 10 units for 10 classes\n",
        "])\n",
        "\n",
        "# Compile the model\n",
        "model.compile(optimizer='adam',\n",
        "              loss='categorical_crossentropy',\n",
        "              metrics=['accuracy'])\n",
        "\n",
        "# Display the model summary\n",
        "model.summary()\n"
      ],
      "metadata": {
        "colab": {
          "base_uri": "https://localhost:8080/"
        },
        "id": "I_CiRN1A0VB0",
        "outputId": "0d6050db-ebe8-4348-b71c-83c2c6427b47"
      },
      "execution_count": 12,
      "outputs": [
        {
          "output_type": "stream",
          "name": "stdout",
          "text": [
            "Model: \"sequential_3\"\n",
            "_________________________________________________________________\n",
            " Layer (type)                Output Shape              Param #   \n",
            "=================================================================\n",
            " conv2d_3 (Conv2D)           (None, 26, 26, 32)        320       \n",
            "                                                                 \n",
            " max_pooling2d_2 (MaxPoolin  (None, 13, 13, 32)        0         \n",
            " g2D)                                                            \n",
            "                                                                 \n",
            " conv2d_4 (Conv2D)           (None, 11, 11, 64)        18496     \n",
            "                                                                 \n",
            " max_pooling2d_3 (MaxPoolin  (None, 5, 5, 64)          0         \n",
            " g2D)                                                            \n",
            "                                                                 \n",
            " conv2d_5 (Conv2D)           (None, 3, 3, 64)          36928     \n",
            "                                                                 \n",
            " flatten_1 (Flatten)         (None, 576)               0         \n",
            "                                                                 \n",
            " dense_4 (Dense)             (None, 64)                36928     \n",
            "                                                                 \n",
            " dense_5 (Dense)             (None, 10)                650       \n",
            "                                                                 \n",
            "=================================================================\n",
            "Total params: 93322 (364.54 KB)\n",
            "Trainable params: 93322 (364.54 KB)\n",
            "Non-trainable params: 0 (0.00 Byte)\n",
            "_________________________________________________________________\n"
          ]
        }
      ]
    },
    {
      "cell_type": "code",
      "source": [
        "#Train the CNN model on the MNIST dataset\n",
        "import tensorflow as tf\n",
        "from tensorflow.keras import layers, models\n",
        "\n",
        "# Load MNIST dataset\n",
        "mnist = tf.keras.datasets.mnist\n",
        "(train_images, train_labels), (test_images, test_labels) = mnist.load_data()\n",
        "\n",
        "# Normalize the image data\n",
        "train_images = train_images / 255.0\n",
        "test_images = test_images / 255.0\n",
        "\n",
        "# Reshape the image data to 4D tensors (batch_size, height, width, channels)\n",
        "train_images = train_images.reshape((train_images.shape[0], 28, 28, 1))\n",
        "test_images = test_images.reshape((test_images.shape[0], 28, 28, 1))\n",
        "\n",
        "# Convert labels to one-hot encoding\n",
        "train_labels = tf.keras.utils.to_categorical(train_labels, num_classes=10)\n",
        "test_labels = tf.keras.utils.to_categorical(test_labels, num_classes=10)\n",
        "\n",
        "# Define the CNN model\n",
        "model = models.Sequential([\n",
        "    # Convolutional layers\n",
        "    layers.Conv2D(32, (3, 3), activation='relu', input_shape=(28, 28, 1)),\n",
        "    layers.MaxPooling2D((2, 2)),\n",
        "    layers.Conv2D(64, (3, 3), activation='relu'),\n",
        "    layers.MaxPooling2D((2, 2)),\n",
        "    layers.Conv2D(64, (3, 3), activation='relu'),\n",
        "\n",
        "    # Flatten layer to feed into dense layers\n",
        "    layers.Flatten(),\n",
        "\n",
        "    # Dense layers\n",
        "    layers.Dense(64, activation='relu'),\n",
        "    layers.Dense(10, activation='softmax')  # Output layer with 10 units for 10 classes\n",
        "])\n",
        "\n",
        "# Compile the model\n",
        "model.compile(optimizer='adam',\n",
        "              loss='categorical_crossentropy',\n",
        "              metrics=['accuracy'])\n",
        "\n",
        "# Train the model\n",
        "history = model.fit(train_images, train_labels, epochs=5, batch_size=64, validation_data=(test_images, test_labels))\n",
        "\n",
        "# Evaluate the model on the test set\n",
        "test_loss, test_accuracy = model.evaluate(test_images, test_labels)\n",
        "\n",
        "print(\"Test Accuracy:\", test_accuracy)\n"
      ],
      "metadata": {
        "colab": {
          "base_uri": "https://localhost:8080/"
        },
        "id": "HA07vd730tFx",
        "outputId": "f1453b59-95ca-4ae5-d72a-564736668a9f"
      },
      "execution_count": 13,
      "outputs": [
        {
          "output_type": "stream",
          "name": "stdout",
          "text": [
            "Epoch 1/5\n",
            "938/938 [==============================] - 54s 56ms/step - loss: 0.1843 - accuracy: 0.9431 - val_loss: 0.0578 - val_accuracy: 0.9826\n",
            "Epoch 2/5\n",
            "938/938 [==============================] - 51s 55ms/step - loss: 0.0495 - accuracy: 0.9853 - val_loss: 0.0349 - val_accuracy: 0.9879\n",
            "Epoch 3/5\n",
            "938/938 [==============================] - 51s 55ms/step - loss: 0.0352 - accuracy: 0.9889 - val_loss: 0.0309 - val_accuracy: 0.9901\n",
            "Epoch 4/5\n",
            "938/938 [==============================] - 51s 55ms/step - loss: 0.0278 - accuracy: 0.9909 - val_loss: 0.0331 - val_accuracy: 0.9892\n",
            "Epoch 5/5\n",
            "938/938 [==============================] - 54s 58ms/step - loss: 0.0217 - accuracy: 0.9932 - val_loss: 0.0247 - val_accuracy: 0.9914\n",
            "313/313 [==============================] - 3s 10ms/step - loss: 0.0247 - accuracy: 0.9914\n",
            "Test Accuracy: 0.9914000034332275\n"
          ]
        }
      ]
    },
    {
      "cell_type": "code",
      "source": [
        "# Evaluate the model's performance on a test set and report accuracy.\n",
        "test_loss, test_accuracy = model.evaluate(test_images, test_labels)\n",
        "\n",
        "print(\"Test Accuracy:\", test_accuracy)\n"
      ],
      "metadata": {
        "colab": {
          "base_uri": "https://localhost:8080/"
        },
        "id": "kkiCSMPe1h-k",
        "outputId": "9839826a-4eb7-4be1-8f4c-2f612a0f0582"
      },
      "execution_count": 14,
      "outputs": [
        {
          "output_type": "stream",
          "name": "stdout",
          "text": [
            "313/313 [==============================] - 3s 9ms/step - loss: 0.0247 - accuracy: 0.9914\n",
            "Test Accuracy: 0.9914000034332275\n"
          ]
        }
      ]
    },
    {
      "cell_type": "code",
      "source": [
        "#Use Callback functions to automate training process like “ReduceLROnPlateau” and keep check on validation loss. Also use history object for result visualization.\n",
        "import numpy as np\n",
        "from tensorflow.keras.models import Sequential\n",
        "from tensorflow.keras.layers import Conv2D, MaxPooling2D, Flatten, Dense\n",
        "from tensorflow.keras.optimizers import Adam\n",
        "from tensorflow.keras.callbacks import ReduceLROnPlateau\n",
        "import matplotlib.pyplot as plt\n",
        "\n",
        "# Define the CNN model as a function\n",
        "def create_model(learning_rate=0.001, optimizer='adam'):\n",
        "    model = Sequential([\n",
        "        Conv2D(32, (3, 3), activation='relu', input_shape=(28, 28, 1)),\n",
        "        MaxPooling2D((2, 2)),\n",
        "        Conv2D(64, (3, 3), activation='relu'),\n",
        "        MaxPooling2D((2, 2)),\n",
        "        Conv2D(64, (3, 3), activation='relu'),\n",
        "        Flatten(),\n",
        "        Dense(64, activation='relu'),\n",
        "        Dense(10, activation='softmax')\n",
        "    ])\n",
        "\n",
        "    model.compile(optimizer=optimizer,\n",
        "                  loss='categorical_crossentropy',\n",
        "                  metrics=['accuracy'])\n",
        "\n",
        "    return model\n",
        "\n",
        "# Define the callback function for reducing learning rate on plateau\n",
        "reduce_lr = ReduceLROnPlateau(monitor='val_loss', factor=0.1, patience=3, verbose=1, min_lr=0.0001)\n",
        "\n",
        "# Create the model\n",
        "model = create_model()\n",
        "\n",
        "# Train the model with callback\n",
        "history = model.fit(train_images, train_labels, epochs=20, batch_size=64,\n",
        "                    validation_data=(test_images, test_labels), callbacks=[reduce_lr])\n",
        "\n",
        "# Visualize training history\n",
        "plt.plot(history.history['loss'], label='Training Loss')\n",
        "plt.plot(history.history['val_loss'], label='Validation Loss')\n",
        "plt.xlabel('Epoch')\n",
        "plt.ylabel('Loss')\n",
        "plt.legend()\n",
        "plt.show()\n"
      ],
      "metadata": {
        "colab": {
          "base_uri": "https://localhost:8080/",
          "height": 1000
        },
        "id": "TQ8TXdox4A6C",
        "outputId": "d8bd47e6-368d-4d1f-dbdd-6badfadb84c5"
      },
      "execution_count": 22,
      "outputs": [
        {
          "output_type": "stream",
          "name": "stdout",
          "text": [
            "Epoch 1/20\n",
            "938/938 [==============================] - 67s 70ms/step - loss: 0.1893 - accuracy: 0.9434 - val_loss: 0.0505 - val_accuracy: 0.9853 - lr: 0.0010\n",
            "Epoch 2/20\n",
            "938/938 [==============================] - 53s 56ms/step - loss: 0.0508 - accuracy: 0.9842 - val_loss: 0.0350 - val_accuracy: 0.9892 - lr: 0.0010\n",
            "Epoch 3/20\n",
            "938/938 [==============================] - 57s 61ms/step - loss: 0.0356 - accuracy: 0.9891 - val_loss: 0.0353 - val_accuracy: 0.9884 - lr: 0.0010\n",
            "Epoch 4/20\n",
            "938/938 [==============================] - 58s 62ms/step - loss: 0.0285 - accuracy: 0.9912 - val_loss: 0.0311 - val_accuracy: 0.9905 - lr: 0.0010\n",
            "Epoch 5/20\n",
            "938/938 [==============================] - 51s 54ms/step - loss: 0.0221 - accuracy: 0.9930 - val_loss: 0.0373 - val_accuracy: 0.9894 - lr: 0.0010\n",
            "Epoch 6/20\n",
            "938/938 [==============================] - 56s 60ms/step - loss: 0.0183 - accuracy: 0.9941 - val_loss: 0.0264 - val_accuracy: 0.9915 - lr: 0.0010\n",
            "Epoch 7/20\n",
            "938/938 [==============================] - 54s 58ms/step - loss: 0.0155 - accuracy: 0.9949 - val_loss: 0.0348 - val_accuracy: 0.9899 - lr: 0.0010\n",
            "Epoch 8/20\n",
            "938/938 [==============================] - 58s 61ms/step - loss: 0.0135 - accuracy: 0.9954 - val_loss: 0.0338 - val_accuracy: 0.9897 - lr: 0.0010\n",
            "Epoch 9/20\n",
            "938/938 [==============================] - ETA: 0s - loss: 0.0109 - accuracy: 0.9964\n",
            "Epoch 9: ReduceLROnPlateau reducing learning rate to 0.00010000000474974513.\n",
            "938/938 [==============================] - 50s 54ms/step - loss: 0.0109 - accuracy: 0.9964 - val_loss: 0.0315 - val_accuracy: 0.9920 - lr: 0.0010\n",
            "Epoch 10/20\n",
            "938/938 [==============================] - 55s 59ms/step - loss: 0.0033 - accuracy: 0.9991 - val_loss: 0.0231 - val_accuracy: 0.9942 - lr: 1.0000e-04\n",
            "Epoch 11/20\n",
            "938/938 [==============================] - 60s 64ms/step - loss: 0.0017 - accuracy: 0.9997 - val_loss: 0.0232 - val_accuracy: 0.9942 - lr: 1.0000e-04\n",
            "Epoch 12/20\n",
            "938/938 [==============================] - 52s 56ms/step - loss: 0.0011 - accuracy: 0.9998 - val_loss: 0.0245 - val_accuracy: 0.9941 - lr: 1.0000e-04\n",
            "Epoch 13/20\n",
            "937/938 [============================>.] - ETA: 0s - loss: 7.3355e-04 - accuracy: 0.9999\n",
            "Epoch 13: ReduceLROnPlateau reducing learning rate to 0.0001.\n",
            "938/938 [==============================] - 52s 55ms/step - loss: 7.3316e-04 - accuracy: 0.9999 - val_loss: 0.0259 - val_accuracy: 0.9944 - lr: 1.0000e-04\n",
            "Epoch 14/20\n",
            "938/938 [==============================] - 49s 52ms/step - loss: 5.1870e-04 - accuracy: 0.9999 - val_loss: 0.0265 - val_accuracy: 0.9943 - lr: 1.0000e-04\n",
            "Epoch 15/20\n",
            "938/938 [==============================] - 50s 53ms/step - loss: 3.3746e-04 - accuracy: 1.0000 - val_loss: 0.0286 - val_accuracy: 0.9943 - lr: 1.0000e-04\n",
            "Epoch 16/20\n",
            "938/938 [==============================] - 50s 54ms/step - loss: 3.6498e-04 - accuracy: 0.9999 - val_loss: 0.0289 - val_accuracy: 0.9940 - lr: 1.0000e-04\n",
            "Epoch 17/20\n",
            "938/938 [==============================] - 50s 53ms/step - loss: 1.6938e-04 - accuracy: 1.0000 - val_loss: 0.0298 - val_accuracy: 0.9945 - lr: 1.0000e-04\n",
            "Epoch 18/20\n",
            "938/938 [==============================] - 52s 55ms/step - loss: 1.3765e-04 - accuracy: 1.0000 - val_loss: 0.0312 - val_accuracy: 0.9944 - lr: 1.0000e-04\n",
            "Epoch 19/20\n",
            "938/938 [==============================] - 51s 55ms/step - loss: 7.0062e-05 - accuracy: 1.0000 - val_loss: 0.0335 - val_accuracy: 0.9943 - lr: 1.0000e-04\n",
            "Epoch 20/20\n",
            "938/938 [==============================] - 49s 52ms/step - loss: 1.1070e-04 - accuracy: 1.0000 - val_loss: 0.0377 - val_accuracy: 0.9939 - lr: 1.0000e-04\n"
          ]
        },
        {
          "output_type": "display_data",
          "data": {
            "text/plain": [
              "<Figure size 640x480 with 1 Axes>"
            ],
            "image/png": "[encoded data removed]"
          },
          "metadata": {}
        }
      ]
    },
    {
      "cell_type": "code",
      "source": [
        "#Text Classification Task:\n",
        "#Load the IMDb movie reviews dataset.\n",
        "import tensorflow as tf\n",
        "from tensorflow.keras.datasets import imdb\n",
        "\n",
        "# Load the IMDb dataset\n",
        "(train_data, train_labels), (test_data, test_labels) = imdb.load_data(num_words=10000)\n",
        "\n",
        "# Display the shape of the training and test sets\n",
        "print(\"Training data shape:\", train_data.shape)\n",
        "print(\"Training labels shape:\", train_labels.shape)\n",
        "print(\"Test data shape:\", test_data.shape)\n",
        "print(\"Test labels shape:\", test_labels.shape)\n"
      ],
      "metadata": {
        "colab": {
          "base_uri": "https://localhost:8080/"
        },
        "id": "z939ZWK64W7S",
        "outputId": "7780f46b-3ee4-49db-f1e5-6facc6e211bf"
      },
      "execution_count": 23,
      "outputs": [
        {
          "output_type": "stream",
          "name": "stdout",
          "text": [
            "Downloading data from https://storage.googleapis.com/tensorflow/tf-keras-datasets/imdb.npz\n",
            "17464789/17464789 [==============================] - 1s 0us/step\n",
            "Training data shape: (25000,)\n",
            "Training labels shape: (25000,)\n",
            "Test data shape: (25000,)\n",
            "Test labels shape: (25000,)\n"
          ]
        }
      ]
    },
    {
      "cell_type": "code",
      "source": [
        "#Preprocess the text data (tokenization, padding).\n",
        "from tensorflow.keras.preprocessing.sequence import pad_sequences\n",
        "\n",
        "# Maximum number of words in a review\n",
        "max_length = 500\n",
        "\n",
        "# Pad sequences to ensure uniform length\n",
        "train_data = pad_sequences(train_data, maxlen=max_length, padding='pre', truncating='pre')\n",
        "test_data = pad_sequences(test_data, maxlen=max_length, padding='pre', truncating='pre')\n",
        "\n",
        "# Display the shape of the padded data\n",
        "print(\"Padded Training data shape:\", train_data.shape)\n",
        "print(\"Padded Test data shape:\", test_data.shape)\n"
      ],
      "metadata": {
        "colab": {
          "base_uri": "https://localhost:8080/"
        },
        "id": "pYjsb7Nr4mgV",
        "outputId": "ec7434ec-346e-40ec-9dc2-808b8e419d7d"
      },
      "execution_count": 24,
      "outputs": [
        {
          "output_type": "stream",
          "name": "stdout",
          "text": [
            "Padded Training data shape: (25000, 500)\n",
            "Padded Test data shape: (25000, 500)\n"
          ]
        }
      ]
    },
    {
      "cell_type": "code",
      "source": [
        "#Build a simple recurrent neural network (RNN) for text classification.\n",
        "import tensorflow as tf\n",
        "from tensorflow.keras.models import Sequential\n",
        "from tensorflow.keras.layers import Embedding, SimpleRNN, Dense\n",
        "\n",
        "# Define the RNN model\n",
        "model = Sequential([\n",
        "    # Embedding layer to convert integer sequences to dense vectors\n",
        "    Embedding(input_dim=10000, output_dim=32, input_length=500),\n",
        "\n",
        "    # Simple RNN layer with 32 units\n",
        "    SimpleRNN(32),\n",
        "\n",
        "    # Output layer with sigmoid activation for binary classification\n",
        "    Dense(1, activation='sigmoid')\n",
        "])\n",
        "\n",
        "# Compile the model\n",
        "model.compile(optimizer='rmsprop', loss='binary_crossentropy', metrics=['accuracy'])\n",
        "\n",
        "# Display the model summary\n",
        "model.summary()\n"
      ],
      "metadata": {
        "colab": {
          "base_uri": "https://localhost:8080/"
        },
        "id": "BRsO46DY4ykB",
        "outputId": "e6d0dd9b-e5cf-4b24-b8ab-7ec9f6d645fa"
      },
      "execution_count": 25,
      "outputs": [
        {
          "output_type": "stream",
          "name": "stdout",
          "text": [
            "Model: \"sequential_6\"\n",
            "_________________________________________________________________\n",
            " Layer (type)                Output Shape              Param #   \n",
            "=================================================================\n",
            " embedding (Embedding)       (None, 500, 32)           320000    \n",
            "                                                                 \n",
            " simple_rnn (SimpleRNN)      (None, 32)                2080      \n",
            "                                                                 \n",
            " dense_10 (Dense)            (None, 1)                 33        \n",
            "                                                                 \n",
            "=================================================================\n",
            "Total params: 322113 (1.23 MB)\n",
            "Trainable params: 322113 (1.23 MB)\n",
            "Non-trainable params: 0 (0.00 Byte)\n",
            "_________________________________________________________________\n"
          ]
        }
      ]
    },
    {
      "cell_type": "code",
      "source": [
        "#Train the RNN model on the IMDb dataset.\n",
        "import tensorflow as tf\n",
        "from tensorflow.keras.datasets import imdb\n",
        "from tensorflow.keras.preprocessing.sequence import pad_sequences\n",
        "from tensorflow.keras.models import Sequential\n",
        "from tensorflow.keras.layers import Embedding, SimpleRNN, Dense\n",
        "\n",
        "# Load the IMDb dataset\n",
        "(train_data, train_labels), (test_data, test_labels) = imdb.load_data(num_words=10000)\n",
        "\n",
        "# Pad sequences to ensure uniform length\n",
        "max_length = 500\n",
        "train_data = pad_sequences(train_data, maxlen=max_length, padding='pre', truncating='pre')\n",
        "test_data = pad_sequences(test_data, maxlen=max_length, padding='pre', truncating='pre')\n",
        "\n",
        "# Define the RNN model\n",
        "model = Sequential([\n",
        "    Embedding(input_dim=10000, output_dim=32, input_length=max_length),\n",
        "    SimpleRNN(32),\n",
        "    Dense(1, activation='sigmoid')\n",
        "])\n",
        "\n",
        "# Compile the model\n",
        "model.compile(optimizer='rmsprop', loss='binary_crossentropy', metrics=['accuracy'])\n",
        "\n",
        "# Train the model\n",
        "history = model.fit(train_data, train_labels, epochs=5, batch_size=128, validation_data=(test_data, test_labels))\n",
        "\n",
        "# Evaluate the model on the test set\n",
        "test_loss, test_accuracy = model.evaluate(test_data, test_labels)\n",
        "\n",
        "print(\"Test Accuracy:\", test_accuracy)\n"
      ],
      "metadata": {
        "colab": {
          "base_uri": "https://localhost:8080/"
        },
        "id": "EB4ihzp_5Bd0",
        "outputId": "f52c2704-a65f-4ed8-e71b-12f5b0d321b6"
      },
      "execution_count": 26,
      "outputs": [
        {
          "output_type": "stream",
          "name": "stdout",
          "text": [
            "Epoch 1/5\n",
            "196/196 [==============================] - 41s 201ms/step - loss: 0.5811 - accuracy: 0.6764 - val_loss: 0.4147 - val_accuracy: 0.8292\n",
            "Epoch 2/5\n",
            "196/196 [==============================] - 39s 201ms/step - loss: 0.3577 - accuracy: 0.8522 - val_loss: 0.4167 - val_accuracy: 0.8095\n",
            "Epoch 3/5\n",
            "196/196 [==============================] - 37s 190ms/step - loss: 0.2971 - accuracy: 0.8823 - val_loss: 0.3299 - val_accuracy: 0.8644\n",
            "Epoch 4/5\n",
            "196/196 [==============================] - 39s 201ms/step - loss: 0.2870 - accuracy: 0.8917 - val_loss: 0.3810 - val_accuracy: 0.8519\n",
            "Epoch 5/5\n",
            "196/196 [==============================] - 39s 200ms/step - loss: 0.2325 - accuracy: 0.9120 - val_loss: 0.3752 - val_accuracy: 0.8637\n",
            "782/782 [==============================] - 20s 25ms/step - loss: 0.3752 - accuracy: 0.8637\n",
            "Test Accuracy: 0.8637199997901917\n"
          ]
        }
      ]
    },
    {
      "cell_type": "code",
      "source": [
        "#Evaluate the model's performance on a test set and report accuracy.\n",
        "# Evaluate the model on the test set\n",
        "test_loss, test_accuracy = model.evaluate(test_data, test_labels)\n",
        "\n",
        "print(\"Test Accuracy:\", test_accuracy)\n"
      ],
      "metadata": {
        "colab": {
          "base_uri": "https://localhost:8080/"
        },
        "id": "w16hbtUG5cO2",
        "outputId": "d52c3b8c-f316-4590-e288-bb1d43417c4d"
      },
      "execution_count": 27,
      "outputs": [
        {
          "output_type": "stream",
          "name": "stdout",
          "text": [
            "782/782 [==============================] - 21s 26ms/step - loss: 0.3752 - accuracy: 0.8637\n",
            "Test Accuracy: 0.8637199997901917\n"
          ]
        }
      ]
    },
    {
      "cell_type": "code",
      "source": [
        "#Use Callback functions to automate training process like “ReduceLROnPlateau” and keep check on validation loss. Also use history object for result visualization.\n",
        "import tensorflow as tf\n",
        "from tensorflow.keras.datasets import imdb\n",
        "from tensorflow.keras.preprocessing.sequence import pad_sequences\n",
        "from tensorflow.keras.models import Sequential\n",
        "from tensorflow.keras.layers import Embedding, SimpleRNN, Dense\n",
        "from tensorflow.keras.optimizers import RMSprop\n",
        "from tensorflow.keras.callbacks import ReduceLROnPlateau\n",
        "import matplotlib.pyplot as plt\n",
        "\n",
        "# Load the IMDb dataset\n",
        "(train_data, train_labels), (test_data, test_labels) = imdb.load_data(num_words=10000)\n",
        "\n",
        "# Pad sequences to ensure uniform length\n",
        "max_length = 500\n",
        "train_data = pad_sequences(train_data, maxlen=max_length, padding='pre', truncating='pre')\n",
        "test_data = pad_sequences(test_data, maxlen=max_length, padding='pre', truncating='pre')\n",
        "\n",
        "# Define the RNN model\n",
        "model = Sequential([\n",
        "    Embedding(input_dim=10000, output_dim=32, input_length=max_length),\n",
        "    SimpleRNN(32),\n",
        "    Dense(1, activation='sigmoid')\n",
        "])\n",
        "\n",
        "# Compile the model\n",
        "model.compile(optimizer=RMSprop(), loss='binary_crossentropy', metrics=['accuracy'])\n",
        "\n",
        "# Define callback functions\n",
        "reduce_lr = ReduceLROnPlateau(monitor='val_loss', factor=0.2, patience=1, min_lr=0.0001)\n",
        "\n",
        "# Train the model with callbacks\n",
        "history = model.fit(train_data, train_labels, epochs=10, batch_size=128,\n",
        "                    validation_data=(test_data, test_labels), callbacks=[reduce_lr])\n",
        "\n",
        "# Visualize training history\n",
        "plt.plot(history.history['loss'], label='Training Loss')\n",
        "plt.plot(history.history['val_loss'], label='Validation Loss')\n",
        "plt.xlabel('Epoch')\n",
        "plt.ylabel('Loss')\n",
        "plt.legend()\n",
        "plt.show()\n"
      ],
      "metadata": {
        "id": "py_X_B8y6KlW"
      },
      "execution_count": null,
      "outputs": []
    }
  ]
}